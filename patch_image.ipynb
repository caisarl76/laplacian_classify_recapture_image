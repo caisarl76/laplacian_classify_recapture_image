{
 "cells": [
  {
   "cell_type": "code",
   "execution_count": 39,
   "metadata": {
    "scrolled": false
   },
   "outputs": [],
   "source": [
    "import tensorflow as tf\n",
    "from skimage import io\n",
    "import matplotlib.pyplot as plt\n",
    "import random\n",
    "import os\n",
    "import cv2\n",
    "import numpy as np\n",
    "from tqdm import tqdm \n",
    "\n",
    "def image_to_patches(image, patch_height, patch_width):\n",
    "    # resize image so that it's dimensions are dividable by patch_height and patch_width\n",
    "    image_height = tf.cast(tf.shape(image)[0], dtype=tf.float32)\n",
    "    image_width = tf.cast(tf.shape(image)[1], dtype=tf.float32)\n",
    "    height = tf.cast((tf.ceil(image_height / patch_height)-1) * patch_height, dtype=tf.int32)\n",
    "    width = tf.cast((tf.ceil(image_width / patch_width) - 1) * patch_width, dtype=tf.int32)\n",
    "\n",
    "    num_rows = height // patch_height\n",
    "    num_cols = width // patch_width\n",
    "    # make zero-padding\n",
    "    image = tf.squeeze(tf.image.resize_image_with_crop_or_pad(image, height, width))\n",
    "\n",
    "    # get slices along the 0-th axis\n",
    "    image = tf.reshape(image, [num_rows, patch_height, width, -1])\n",
    "    # h/patch_h, w, patch_h, c\n",
    "    image = tf.transpose(image, [0, 2, 1, 3])\n",
    "    # get slices along the 1-st axis\n",
    "    # h/patch_h, w/patch_w, patch_w,patch_h, c\n",
    "    image = tf.reshape(image, [num_rows, num_cols, patch_width, patch_height, -1])\n",
    "    # num_patches, patch_w, patch_h, c\n",
    "    image = tf.reshape(image, [num_rows * num_cols, patch_width, patch_height, -1])\n",
    "    # num_patches, patch_h, patch_w, c\n",
    "    return tf.transpose(image, [0, 2, 1, 3])\n",
    "\n",
    "def get_random_n_patches(patches, k):\n",
    "    n = patches.shape[0]\n",
    "    if n < 2:\n",
    "        return patches\n",
    "    while(True):\n",
    "        if(k <= n):\n",
    "            rand = random.sample(range(n), k)\n",
    "            break\n",
    "        else:\n",
    "            k -= 3\n",
    "    return patches[rand]\n",
    "\n",
    "def patch_img_to_file(base_path, file_name, dest, label_anno):\n",
    "    global data\n",
    "    global label\n",
    "    image = io.imread(os.path.join(base_path, file_name))\n",
    "    #print(file_name)\n",
    "    tile_size = 355 #512\n",
    "    image = tf.constant(image)\n",
    "    tiles = image_to_patches(image, tile_size, tile_size)\n",
    "    sess = tf.Session()\n",
    "    I, tiles = sess.run([image, tiles])\n",
    "#     print(I.shape)  #anh goc\n",
    "#     print(tiles.shape)\n",
    "    tiles = get_random_n_patches(tiles, 5)\n",
    "    j = 1\n",
    "    for i, tile in enumerate(tiles):\n",
    "        tmp = os.path.splitext(file_name)\n",
    "        new_name = tmp[0] + \"_patch\" + str(j) + tmp[1]\n",
    "        cv2.imwrite(os.path.join(dest, new_name), tile)\n",
    "        j+=1\n",
    "        data.append(tile)\n",
    "        label.append(label_anno)\n",
    "\n",
    "BASE1 = \"/root/patchcore-inspection/pantos_data/reuse_img/train/real/\"\n",
    "DES1 = \"/root/laplacian_classify_recapture_image/dataset/train/real/\"\n",
    "BASE2 = \"/root/patchcore-inspection/pantos_data/reuse_img/train/fake/\"\n",
    "DES2 = \"/root/laplacian_classify_recapture_image/dataset/train/fake/\"\n",
    "LOG0 = \"/root/laplacian_classify_recapture_image/logs/1\"\n",
    "LOG1 = \"/root/laplacian_classify_recapture_image/logs/2\"\n",
    "\n"
   ]
  },
  {
   "cell_type": "code",
   "execution_count": 42,
   "metadata": {},
   "outputs": [],
   "source": [
    "os.makedirs(DES1, exist_ok=True)\n",
    "os.makedirs(DES2, exist_ok=True)\n",
    "os.makedirs(LOG0, exist_ok=True)\n",
    "os.makedirs(LOG1, exist_ok=True)\n"
   ]
  },
  {
   "cell_type": "code",
   "execution_count": 37,
   "metadata": {},
   "outputs": [
    {
     "name": "stdout",
     "output_type": "stream",
     "text": [
      "FAILED 1089613272-1.1.1@1@2@6648658@206907747.jpg (360, 800, 3)\n"
     ]
    }
   ],
   "source": [
    "for item in os.listdir(BASE1):\n",
    "    patch_height = patch_width = 355\n",
    "    try:\n",
    "        image_ori = io.imread(os.path.join(BASE1, item))\n",
    "        \n",
    "        image = tf.constant(image_ori)\n",
    "        image_height = tf.cast(tf.shape(image)[0], dtype=tf.float32)\n",
    "        image_width = tf.cast(tf.shape(image)[1], dtype=tf.float32)\n",
    "        height = tf.cast((tf.ceil(image_height / patch_height)-1) * patch_height, dtype=tf.int32)\n",
    "        width = tf.cast((tf.ceil(image_width / patch_width) - 1) * patch_width, dtype=tf.int32)\n",
    "\n",
    "        num_rows = height // patch_height\n",
    "        num_cols = width // patch_width\n",
    "        # make zero-padding\n",
    "        image = tf.image.resize_image_with_crop_or_pad(image, height, width)\n",
    "        image = tf.squeeze(image)\n",
    "\n",
    "        # print('PASS', item, image_ori.shape)\n",
    "    except:\n",
    "        # print(item)?\n",
    "        print('FAILED', item, image_ori.shape)"
   ]
  },
  {
   "cell_type": "code",
   "execution_count": null,
   "metadata": {},
   "outputs": [],
   "source": [
    "\n",
    "image = tf.constant(image_ori)\n",
    "image_height = tf.cast(tf.shape(image)[0], dtype=tf.float32)\n",
    "image_width = tf.cast(tf.shape(image)[1], dtype=tf.float32)\n",
    "height = tf.cast((tf.ceil(image_height / patch_height)-1) * patch_height, dtype=tf.int32)\n",
    "width = tf.cast((tf.ceil(image_width / patch_width) - 1) * patch_width, dtype=tf.int32)\n",
    "\n",
    "num_rows = height // patch_height\n",
    "num_cols = width // patch_width\n",
    "# make zero-padding\n",
    "image = tf.image.resize_image_with_crop_or_pad(image, height, width)\n",
    "image = tf.squeeze(image)"
   ]
  },
  {
   "cell_type": "code",
   "execution_count": 43,
   "metadata": {},
   "outputs": [
    {
     "name": "stderr",
     "output_type": "stream",
     "text": [
      "  0%|          | 0/100 [00:00<?, ?it/s]2023-10-18 04:47:44.798574: I tensorflow/core/common_runtime/gpu/gpu_device.cc:1181] Device interconnect StreamExecutor with strength 1 edge matrix:\n",
      "2023-10-18 04:47:44.798604: I tensorflow/core/common_runtime/gpu/gpu_device.cc:1187]      \n",
      "  1%|          | 1/100 [00:04<08:11,  4.97s/it]"
     ]
    },
    {
     "name": "stdout",
     "output_type": "stream",
     "text": [
      "saved at number 1--natural images--\n"
     ]
    },
    {
     "name": "stderr",
     "output_type": "stream",
     "text": [
      "2023-10-18 04:47:49.745558: I tensorflow/core/common_runtime/gpu/gpu_device.cc:1181] Device interconnect StreamExecutor with strength 1 edge matrix:\n",
      "2023-10-18 04:47:49.745584: I tensorflow/core/common_runtime/gpu/gpu_device.cc:1187]      \n",
      "  2%|▏         | 2/100 [00:09<07:18,  4.48s/it]"
     ]
    },
    {
     "name": "stdout",
     "output_type": "stream",
     "text": [
      "saved at number 2--natural images--\n"
     ]
    },
    {
     "name": "stderr",
     "output_type": "stream",
     "text": [
      "2023-10-18 04:47:53.887053: I tensorflow/core/common_runtime/gpu/gpu_device.cc:1181] Device interconnect StreamExecutor with strength 1 edge matrix:\n",
      "2023-10-18 04:47:53.887080: I tensorflow/core/common_runtime/gpu/gpu_device.cc:1187]      \n",
      "  3%|▎         | 3/100 [00:13<06:57,  4.31s/it]"
     ]
    },
    {
     "name": "stdout",
     "output_type": "stream",
     "text": [
      "saved at number 3--natural images--\n"
     ]
    },
    {
     "name": "stderr",
     "output_type": "stream",
     "text": [
      "2023-10-18 04:47:57.989914: I tensorflow/core/common_runtime/gpu/gpu_device.cc:1181] Device interconnect StreamExecutor with strength 1 edge matrix:\n",
      "2023-10-18 04:47:57.989940: I tensorflow/core/common_runtime/gpu/gpu_device.cc:1187]      \n",
      "  4%|▍         | 4/100 [00:17<06:45,  4.23s/it]"
     ]
    },
    {
     "name": "stdout",
     "output_type": "stream",
     "text": [
      "saved at number 4--natural images--\n"
     ]
    },
    {
     "name": "stderr",
     "output_type": "stream",
     "text": [
      "2023-10-18 04:48:02.091148: I tensorflow/core/common_runtime/gpu/gpu_device.cc:1181] Device interconnect StreamExecutor with strength 1 edge matrix:\n",
      "2023-10-18 04:48:02.091185: I tensorflow/core/common_runtime/gpu/gpu_device.cc:1187]      \n",
      "  5%|▌         | 5/100 [00:21<06:39,  4.20s/it]"
     ]
    },
    {
     "name": "stdout",
     "output_type": "stream",
     "text": [
      "saved at number 5--natural images--\n"
     ]
    },
    {
     "name": "stderr",
     "output_type": "stream",
     "text": [
      "2023-10-18 04:48:06.244779: I tensorflow/core/common_runtime/gpu/gpu_device.cc:1181] Device interconnect StreamExecutor with strength 1 edge matrix:\n",
      "2023-10-18 04:48:06.244806: I tensorflow/core/common_runtime/gpu/gpu_device.cc:1187]      \n",
      "  6%|▌         | 6/100 [00:25<06:30,  4.15s/it]"
     ]
    },
    {
     "name": "stdout",
     "output_type": "stream",
     "text": [
      "saved at number 6--natural images--\n"
     ]
    },
    {
     "name": "stderr",
     "output_type": "stream",
     "text": [
      "2023-10-18 04:48:10.308851: I tensorflow/core/common_runtime/gpu/gpu_device.cc:1181] Device interconnect StreamExecutor with strength 1 edge matrix:\n",
      "2023-10-18 04:48:10.308878: I tensorflow/core/common_runtime/gpu/gpu_device.cc:1187]      \n",
      "  7%|▋         | 7/100 [00:29<06:22,  4.11s/it]"
     ]
    },
    {
     "name": "stdout",
     "output_type": "stream",
     "text": [
      "saved at number 7--natural images--\n"
     ]
    },
    {
     "name": "stderr",
     "output_type": "stream",
     "text": [
      "2023-10-18 04:48:14.340717: I tensorflow/core/common_runtime/gpu/gpu_device.cc:1181] Device interconnect StreamExecutor with strength 1 edge matrix:\n",
      "2023-10-18 04:48:14.340745: I tensorflow/core/common_runtime/gpu/gpu_device.cc:1187]      \n",
      "  8%|▊         | 8/100 [00:33<06:16,  4.09s/it]"
     ]
    },
    {
     "name": "stdout",
     "output_type": "stream",
     "text": [
      "saved at number 8--natural images--\n"
     ]
    },
    {
     "name": "stderr",
     "output_type": "stream",
     "text": [
      "2023-10-18 04:48:18.376649: I tensorflow/core/common_runtime/gpu/gpu_device.cc:1181] Device interconnect StreamExecutor with strength 1 edge matrix:\n",
      "2023-10-18 04:48:18.376675: I tensorflow/core/common_runtime/gpu/gpu_device.cc:1187]      \n",
      "  9%|▉         | 9/100 [00:37<06:11,  4.08s/it]"
     ]
    },
    {
     "name": "stdout",
     "output_type": "stream",
     "text": [
      "saved at number 9--natural images--\n"
     ]
    },
    {
     "name": "stderr",
     "output_type": "stream",
     "text": [
      "2023-10-18 04:48:22.431803: I tensorflow/core/common_runtime/gpu/gpu_device.cc:1181] Device interconnect StreamExecutor with strength 1 edge matrix:\n",
      "2023-10-18 04:48:22.431830: I tensorflow/core/common_runtime/gpu/gpu_device.cc:1187]      \n",
      " 10%|█         | 10/100 [00:41<06:06,  4.07s/it]"
     ]
    },
    {
     "name": "stdout",
     "output_type": "stream",
     "text": [
      "saved at number 10--natural images--\n"
     ]
    },
    {
     "name": "stderr",
     "output_type": "stream",
     "text": [
      "2023-10-18 04:48:26.492698: I tensorflow/core/common_runtime/gpu/gpu_device.cc:1181] Device interconnect StreamExecutor with strength 1 edge matrix:\n",
      "2023-10-18 04:48:26.492725: I tensorflow/core/common_runtime/gpu/gpu_device.cc:1187]      \n",
      " 11%|█         | 11/100 [00:45<06:02,  4.07s/it]"
     ]
    },
    {
     "name": "stdout",
     "output_type": "stream",
     "text": [
      "saved at number 11--natural images--\n"
     ]
    },
    {
     "name": "stderr",
     "output_type": "stream",
     "text": [
      "2023-10-18 04:48:30.573240: I tensorflow/core/common_runtime/gpu/gpu_device.cc:1181] Device interconnect StreamExecutor with strength 1 edge matrix:\n",
      "2023-10-18 04:48:30.573268: I tensorflow/core/common_runtime/gpu/gpu_device.cc:1187]      \n",
      " 12%|█▏        | 12/100 [00:50<06:04,  4.14s/it]"
     ]
    },
    {
     "name": "stdout",
     "output_type": "stream",
     "text": [
      "saved at number 12--natural images--\n"
     ]
    },
    {
     "name": "stderr",
     "output_type": "stream",
     "text": [
      "2023-10-18 04:48:34.868148: I tensorflow/core/common_runtime/gpu/gpu_device.cc:1181] Device interconnect StreamExecutor with strength 1 edge matrix:\n",
      "2023-10-18 04:48:34.868176: I tensorflow/core/common_runtime/gpu/gpu_device.cc:1187]      \n",
      " 13%|█▎        | 13/100 [00:54<06:00,  4.15s/it]"
     ]
    },
    {
     "name": "stdout",
     "output_type": "stream",
     "text": [
      "saved at number 13--natural images--\n"
     ]
    },
    {
     "name": "stderr",
     "output_type": "stream",
     "text": [
      "2023-10-18 04:48:39.020137: I tensorflow/core/common_runtime/gpu/gpu_device.cc:1181] Device interconnect StreamExecutor with strength 1 edge matrix:\n",
      "2023-10-18 04:48:39.020165: I tensorflow/core/common_runtime/gpu/gpu_device.cc:1187]      \n",
      " 14%|█▍        | 14/100 [00:58<05:56,  4.15s/it]"
     ]
    },
    {
     "name": "stdout",
     "output_type": "stream",
     "text": [
      "saved at number 14--natural images--\n"
     ]
    },
    {
     "name": "stderr",
     "output_type": "stream",
     "text": [
      "2023-10-18 04:48:43.168412: I tensorflow/core/common_runtime/gpu/gpu_device.cc:1181] Device interconnect StreamExecutor with strength 1 edge matrix:\n",
      "2023-10-18 04:48:43.168441: I tensorflow/core/common_runtime/gpu/gpu_device.cc:1187]      \n",
      " 15%|█▌        | 15/100 [01:02<05:51,  4.14s/it]"
     ]
    },
    {
     "name": "stdout",
     "output_type": "stream",
     "text": [
      "saved at number 15--natural images--\n"
     ]
    },
    {
     "name": "stderr",
     "output_type": "stream",
     "text": [
      "2023-10-18 04:48:47.282142: I tensorflow/core/common_runtime/gpu/gpu_device.cc:1181] Device interconnect StreamExecutor with strength 1 edge matrix:\n",
      "2023-10-18 04:48:47.282168: I tensorflow/core/common_runtime/gpu/gpu_device.cc:1187]      \n",
      " 16%|█▌        | 16/100 [01:06<05:50,  4.17s/it]"
     ]
    },
    {
     "name": "stdout",
     "output_type": "stream",
     "text": [
      "saved at number 16--natural images--\n"
     ]
    },
    {
     "name": "stderr",
     "output_type": "stream",
     "text": [
      "2023-10-18 04:48:51.538508: I tensorflow/core/common_runtime/gpu/gpu_device.cc:1181] Device interconnect StreamExecutor with strength 1 edge matrix:\n",
      "2023-10-18 04:48:51.538534: I tensorflow/core/common_runtime/gpu/gpu_device.cc:1187]      \n",
      " 17%|█▋        | 17/100 [01:12<06:19,  4.58s/it]"
     ]
    },
    {
     "name": "stdout",
     "output_type": "stream",
     "text": [
      "saved at number 17--natural images--\n"
     ]
    },
    {
     "name": "stderr",
     "output_type": "stream",
     "text": [
      "2023-10-18 04:48:57.063545: I tensorflow/core/common_runtime/gpu/gpu_device.cc:1181] Device interconnect StreamExecutor with strength 1 edge matrix:\n",
      "2023-10-18 04:48:57.063572: I tensorflow/core/common_runtime/gpu/gpu_device.cc:1187]      \n",
      " 18%|█▊        | 18/100 [01:17<06:23,  4.68s/it]"
     ]
    },
    {
     "name": "stdout",
     "output_type": "stream",
     "text": [
      "saved at number 18--natural images--\n"
     ]
    },
    {
     "name": "stderr",
     "output_type": "stream",
     "text": [
      "2023-10-18 04:49:01.958722: I tensorflow/core/common_runtime/gpu/gpu_device.cc:1181] Device interconnect StreamExecutor with strength 1 edge matrix:\n",
      "2023-10-18 04:49:01.958751: I tensorflow/core/common_runtime/gpu/gpu_device.cc:1187]      \n",
      " 19%|█▉        | 19/100 [01:22<06:25,  4.75s/it]"
     ]
    },
    {
     "name": "stdout",
     "output_type": "stream",
     "text": [
      "saved at number 19--natural images--\n"
     ]
    },
    {
     "name": "stderr",
     "output_type": "stream",
     "text": [
      "2023-10-18 04:49:06.901643: I tensorflow/core/common_runtime/gpu/gpu_device.cc:1181] Device interconnect StreamExecutor with strength 1 edge matrix:\n",
      "2023-10-18 04:49:06.901671: I tensorflow/core/common_runtime/gpu/gpu_device.cc:1187]      \n",
      " 20%|██        | 20/100 [01:26<06:14,  4.68s/it]"
     ]
    },
    {
     "name": "stdout",
     "output_type": "stream",
     "text": [
      "saved at number 20--natural images--\n"
     ]
    },
    {
     "name": "stderr",
     "output_type": "stream",
     "text": [
      "2023-10-18 04:49:11.393050: I tensorflow/core/common_runtime/gpu/gpu_device.cc:1181] Device interconnect StreamExecutor with strength 1 edge matrix:\n",
      "2023-10-18 04:49:11.393078: I tensorflow/core/common_runtime/gpu/gpu_device.cc:1187]      \n",
      " 21%|██        | 21/100 [01:31<06:16,  4.76s/it]"
     ]
    },
    {
     "name": "stdout",
     "output_type": "stream",
     "text": [
      "saved at number 21--natural images--\n"
     ]
    },
    {
     "name": "stderr",
     "output_type": "stream",
     "text": [
      "2023-10-18 04:49:16.361822: I tensorflow/core/common_runtime/gpu/gpu_device.cc:1181] Device interconnect StreamExecutor with strength 1 edge matrix:\n",
      "2023-10-18 04:49:16.361849: I tensorflow/core/common_runtime/gpu/gpu_device.cc:1187]      \n",
      " 22%|██▏       | 22/100 [01:35<06:00,  4.62s/it]"
     ]
    },
    {
     "name": "stdout",
     "output_type": "stream",
     "text": [
      "saved at number 22--natural images--\n"
     ]
    },
    {
     "name": "stderr",
     "output_type": "stream",
     "text": [
      "2023-10-18 04:49:20.664646: I tensorflow/core/common_runtime/gpu/gpu_device.cc:1181] Device interconnect StreamExecutor with strength 1 edge matrix:\n",
      "2023-10-18 04:49:20.664673: I tensorflow/core/common_runtime/gpu/gpu_device.cc:1187]      \n",
      " 23%|██▎       | 23/100 [01:40<05:49,  4.53s/it]"
     ]
    },
    {
     "name": "stdout",
     "output_type": "stream",
     "text": [
      "saved at number 23--natural images--\n"
     ]
    },
    {
     "name": "stderr",
     "output_type": "stream",
     "text": [
      "2023-10-18 04:49:24.981781: I tensorflow/core/common_runtime/gpu/gpu_device.cc:1181] Device interconnect StreamExecutor with strength 1 edge matrix:\n",
      "2023-10-18 04:49:24.981806: I tensorflow/core/common_runtime/gpu/gpu_device.cc:1187]      \n",
      " 24%|██▍       | 24/100 [01:44<05:40,  4.48s/it]"
     ]
    },
    {
     "name": "stdout",
     "output_type": "stream",
     "text": [
      "saved at number 24--natural images--\n"
     ]
    },
    {
     "name": "stderr",
     "output_type": "stream",
     "text": [
      "2023-10-18 04:49:29.327041: I tensorflow/core/common_runtime/gpu/gpu_device.cc:1181] Device interconnect StreamExecutor with strength 1 edge matrix:\n",
      "2023-10-18 04:49:29.327066: I tensorflow/core/common_runtime/gpu/gpu_device.cc:1187]      \n",
      " 25%|██▌       | 25/100 [01:49<05:39,  4.52s/it]"
     ]
    },
    {
     "name": "stdout",
     "output_type": "stream",
     "text": [
      "saved at number 25--natural images--\n"
     ]
    },
    {
     "name": "stderr",
     "output_type": "stream",
     "text": [
      "2023-10-18 04:49:33.948262: I tensorflow/core/common_runtime/gpu/gpu_device.cc:1181] Device interconnect StreamExecutor with strength 1 edge matrix:\n",
      "2023-10-18 04:49:33.948288: I tensorflow/core/common_runtime/gpu/gpu_device.cc:1187]      \n",
      " 26%|██▌       | 26/100 [01:53<05:35,  4.54s/it]"
     ]
    },
    {
     "name": "stdout",
     "output_type": "stream",
     "text": [
      "saved at number 26--natural images--\n"
     ]
    },
    {
     "name": "stderr",
     "output_type": "stream",
     "text": [
      "2023-10-18 04:49:38.532286: I tensorflow/core/common_runtime/gpu/gpu_device.cc:1181] Device interconnect StreamExecutor with strength 1 edge matrix:\n",
      "2023-10-18 04:49:38.532312: I tensorflow/core/common_runtime/gpu/gpu_device.cc:1187]      \n",
      " 27%|██▋       | 27/100 [01:57<05:23,  4.43s/it]"
     ]
    },
    {
     "name": "stdout",
     "output_type": "stream",
     "text": [
      "saved at number 27--natural images--\n"
     ]
    },
    {
     "name": "stderr",
     "output_type": "stream",
     "text": [
      "2023-10-18 04:49:42.701079: I tensorflow/core/common_runtime/gpu/gpu_device.cc:1181] Device interconnect StreamExecutor with strength 1 edge matrix:\n",
      "2023-10-18 04:49:42.701105: I tensorflow/core/common_runtime/gpu/gpu_device.cc:1187]      \n",
      " 28%|██▊       | 28/100 [02:02<05:21,  4.46s/it]"
     ]
    },
    {
     "name": "stdout",
     "output_type": "stream",
     "text": [
      "saved at number 28--natural images--\n"
     ]
    },
    {
     "name": "stderr",
     "output_type": "stream",
     "text": [
      "2023-10-18 04:49:47.239792: I tensorflow/core/common_runtime/gpu/gpu_device.cc:1181] Device interconnect StreamExecutor with strength 1 edge matrix:\n",
      "2023-10-18 04:49:47.239818: I tensorflow/core/common_runtime/gpu/gpu_device.cc:1187]      \n",
      " 29%|██▉       | 29/100 [02:08<05:42,  4.82s/it]"
     ]
    },
    {
     "name": "stdout",
     "output_type": "stream",
     "text": [
      "saved at number 29--natural images--\n"
     ]
    },
    {
     "name": "stderr",
     "output_type": "stream",
     "text": [
      "2023-10-18 04:49:52.911759: I tensorflow/core/common_runtime/gpu/gpu_device.cc:1181] Device interconnect StreamExecutor with strength 1 edge matrix:\n",
      "2023-10-18 04:49:52.911789: I tensorflow/core/common_runtime/gpu/gpu_device.cc:1187]      \n",
      " 30%|███       | 30/100 [02:13<05:51,  5.02s/it]"
     ]
    },
    {
     "name": "stdout",
     "output_type": "stream",
     "text": [
      "saved at number 30--natural images--\n"
     ]
    },
    {
     "name": "stderr",
     "output_type": "stream",
     "text": [
      "2023-10-18 04:49:58.380907: I tensorflow/core/common_runtime/gpu/gpu_device.cc:1181] Device interconnect StreamExecutor with strength 1 edge matrix:\n",
      "2023-10-18 04:49:58.380932: I tensorflow/core/common_runtime/gpu/gpu_device.cc:1187]      \n",
      " 31%|███       | 31/100 [02:18<05:42,  4.96s/it]"
     ]
    },
    {
     "name": "stdout",
     "output_type": "stream",
     "text": [
      "saved at number 31--natural images--\n"
     ]
    },
    {
     "name": "stderr",
     "output_type": "stream",
     "text": [
      "2023-10-18 04:50:03.196932: I tensorflow/core/common_runtime/gpu/gpu_device.cc:1181] Device interconnect StreamExecutor with strength 1 edge matrix:\n",
      "2023-10-18 04:50:03.196976: I tensorflow/core/common_runtime/gpu/gpu_device.cc:1187]      \n",
      " 32%|███▏      | 32/100 [02:23<05:36,  4.94s/it]"
     ]
    },
    {
     "name": "stdout",
     "output_type": "stream",
     "text": [
      "saved at number 32--natural images--\n"
     ]
    },
    {
     "name": "stderr",
     "output_type": "stream",
     "text": [
      "2023-10-18 04:50:08.104828: I tensorflow/core/common_runtime/gpu/gpu_device.cc:1181] Device interconnect StreamExecutor with strength 1 edge matrix:\n",
      "2023-10-18 04:50:08.104856: I tensorflow/core/common_runtime/gpu/gpu_device.cc:1187]      \n",
      " 33%|███▎      | 33/100 [02:28<05:31,  4.94s/it]"
     ]
    },
    {
     "name": "stdout",
     "output_type": "stream",
     "text": [
      "saved at number 33--natural images--\n"
     ]
    },
    {
     "name": "stderr",
     "output_type": "stream",
     "text": [
      "2023-10-18 04:50:13.059116: I tensorflow/core/common_runtime/gpu/gpu_device.cc:1181] Device interconnect StreamExecutor with strength 1 edge matrix:\n",
      "2023-10-18 04:50:13.059141: I tensorflow/core/common_runtime/gpu/gpu_device.cc:1187]      \n",
      " 34%|███▍      | 34/100 [02:32<05:16,  4.79s/it]"
     ]
    },
    {
     "name": "stdout",
     "output_type": "stream",
     "text": [
      "saved at number 34--natural images--\n"
     ]
    },
    {
     "name": "stderr",
     "output_type": "stream",
     "text": [
      "2023-10-18 04:50:17.474784: I tensorflow/core/common_runtime/gpu/gpu_device.cc:1181] Device interconnect StreamExecutor with strength 1 edge matrix:\n",
      "2023-10-18 04:50:17.474812: I tensorflow/core/common_runtime/gpu/gpu_device.cc:1187]      \n",
      " 35%|███▌      | 35/100 [02:37<05:08,  4.75s/it]"
     ]
    },
    {
     "name": "stdout",
     "output_type": "stream",
     "text": [
      "saved at number 35--natural images--\n"
     ]
    },
    {
     "name": "stderr",
     "output_type": "stream",
     "text": [
      "2023-10-18 04:50:22.118605: I tensorflow/core/common_runtime/gpu/gpu_device.cc:1181] Device interconnect StreamExecutor with strength 1 edge matrix:\n",
      "2023-10-18 04:50:22.118632: I tensorflow/core/common_runtime/gpu/gpu_device.cc:1187]      \n",
      " 36%|███▌      | 36/100 [02:42<05:07,  4.80s/it]"
     ]
    },
    {
     "name": "stdout",
     "output_type": "stream",
     "text": [
      "saved at number 36--natural images--\n"
     ]
    },
    {
     "name": "stderr",
     "output_type": "stream",
     "text": [
      "2023-10-18 04:50:27.062723: I tensorflow/core/common_runtime/gpu/gpu_device.cc:1181] Device interconnect StreamExecutor with strength 1 edge matrix:\n",
      "2023-10-18 04:50:27.062750: I tensorflow/core/common_runtime/gpu/gpu_device.cc:1187]      \n",
      " 37%|███▋      | 37/100 [02:46<04:57,  4.72s/it]"
     ]
    },
    {
     "name": "stdout",
     "output_type": "stream",
     "text": [
      "saved at number 37--natural images--\n"
     ]
    },
    {
     "name": "stderr",
     "output_type": "stream",
     "text": [
      "2023-10-18 04:50:31.600185: I tensorflow/core/common_runtime/gpu/gpu_device.cc:1181] Device interconnect StreamExecutor with strength 1 edge matrix:\n",
      "2023-10-18 04:50:31.600216: I tensorflow/core/common_runtime/gpu/gpu_device.cc:1187]      \n",
      " 38%|███▊      | 38/100 [02:51<04:44,  4.59s/it]"
     ]
    },
    {
     "name": "stdout",
     "output_type": "stream",
     "text": [
      "saved at number 38--natural images--\n"
     ]
    },
    {
     "name": "stderr",
     "output_type": "stream",
     "text": [
      "2023-10-18 04:50:35.878357: I tensorflow/core/common_runtime/gpu/gpu_device.cc:1181] Device interconnect StreamExecutor with strength 1 edge matrix:\n",
      "2023-10-18 04:50:35.878383: I tensorflow/core/common_runtime/gpu/gpu_device.cc:1187]      \n",
      " 39%|███▉      | 39/100 [02:55<04:40,  4.60s/it]"
     ]
    },
    {
     "name": "stdout",
     "output_type": "stream",
     "text": [
      "saved at number 39--natural images--\n"
     ]
    },
    {
     "name": "stderr",
     "output_type": "stream",
     "text": [
      "2023-10-18 04:50:40.529662: I tensorflow/core/common_runtime/gpu/gpu_device.cc:1181] Device interconnect StreamExecutor with strength 1 edge matrix:\n",
      "2023-10-18 04:50:40.529697: I tensorflow/core/common_runtime/gpu/gpu_device.cc:1187]      \n",
      " 40%|████      | 40/100 [03:00<04:33,  4.55s/it]"
     ]
    },
    {
     "name": "stdout",
     "output_type": "stream",
     "text": [
      "saved at number 40--natural images--\n"
     ]
    },
    {
     "name": "stderr",
     "output_type": "stream",
     "text": [
      "2023-10-18 04:50:44.932885: I tensorflow/core/common_runtime/gpu/gpu_device.cc:1181] Device interconnect StreamExecutor with strength 1 edge matrix:\n",
      "2023-10-18 04:50:44.932913: I tensorflow/core/common_runtime/gpu/gpu_device.cc:1187]      \n",
      " 41%|████      | 41/100 [03:05<04:41,  4.76s/it]"
     ]
    },
    {
     "name": "stdout",
     "output_type": "stream",
     "text": [
      "saved at number 41--natural images--\n"
     ]
    },
    {
     "name": "stderr",
     "output_type": "stream",
     "text": [
      "2023-10-18 04:50:50.200238: I tensorflow/core/common_runtime/gpu/gpu_device.cc:1181] Device interconnect StreamExecutor with strength 1 edge matrix:\n",
      "2023-10-18 04:50:50.200268: I tensorflow/core/common_runtime/gpu/gpu_device.cc:1187]      \n",
      " 42%|████▏     | 42/100 [03:10<04:35,  4.75s/it]"
     ]
    },
    {
     "name": "stdout",
     "output_type": "stream",
     "text": [
      "saved at number 42--natural images--\n"
     ]
    },
    {
     "name": "stderr",
     "output_type": "stream",
     "text": [
      "2023-10-18 04:50:54.920637: I tensorflow/core/common_runtime/gpu/gpu_device.cc:1181] Device interconnect StreamExecutor with strength 1 edge matrix:\n",
      "2023-10-18 04:50:54.920677: I tensorflow/core/common_runtime/gpu/gpu_device.cc:1187]      \n",
      " 43%|████▎     | 43/100 [03:15<04:42,  4.95s/it]"
     ]
    },
    {
     "name": "stdout",
     "output_type": "stream",
     "text": [
      "saved at number 43--natural images--\n"
     ]
    },
    {
     "name": "stderr",
     "output_type": "stream",
     "text": [
      "2023-10-18 04:51:00.353817: I tensorflow/core/common_runtime/gpu/gpu_device.cc:1181] Device interconnect StreamExecutor with strength 1 edge matrix:\n",
      "2023-10-18 04:51:00.353845: I tensorflow/core/common_runtime/gpu/gpu_device.cc:1187]      \n",
      " 44%|████▍     | 44/100 [03:20<04:34,  4.90s/it]"
     ]
    },
    {
     "name": "stdout",
     "output_type": "stream",
     "text": [
      "saved at number 44--natural images--\n"
     ]
    },
    {
     "name": "stderr",
     "output_type": "stream",
     "text": [
      "2023-10-18 04:51:05.121651: I tensorflow/core/common_runtime/gpu/gpu_device.cc:1181] Device interconnect StreamExecutor with strength 1 edge matrix:\n",
      "2023-10-18 04:51:05.121698: I tensorflow/core/common_runtime/gpu/gpu_device.cc:1187]      \n",
      " 45%|████▌     | 45/100 [03:25<04:35,  5.01s/it]"
     ]
    },
    {
     "name": "stdout",
     "output_type": "stream",
     "text": [
      "saved at number 45--natural images--\n"
     ]
    },
    {
     "name": "stderr",
     "output_type": "stream",
     "text": [
      "2023-10-18 04:51:10.394490: I tensorflow/core/common_runtime/gpu/gpu_device.cc:1181] Device interconnect StreamExecutor with strength 1 edge matrix:\n",
      "2023-10-18 04:51:10.394515: I tensorflow/core/common_runtime/gpu/gpu_device.cc:1187]      \n",
      " 46%|████▌     | 46/100 [03:30<04:22,  4.87s/it]"
     ]
    },
    {
     "name": "stdout",
     "output_type": "stream",
     "text": [
      "saved at number 46--natural images--\n"
     ]
    },
    {
     "name": "stderr",
     "output_type": "stream",
     "text": [
      "2023-10-18 04:51:14.947008: I tensorflow/core/common_runtime/gpu/gpu_device.cc:1181] Device interconnect StreamExecutor with strength 1 edge matrix:\n",
      "2023-10-18 04:51:14.947035: I tensorflow/core/common_runtime/gpu/gpu_device.cc:1187]      \n",
      " 47%|████▋     | 47/100 [03:36<04:36,  5.22s/it]"
     ]
    },
    {
     "name": "stdout",
     "output_type": "stream",
     "text": [
      "saved at number 47--natural images--\n"
     ]
    },
    {
     "name": "stderr",
     "output_type": "stream",
     "text": [
      "2023-10-18 04:51:20.963070: I tensorflow/core/common_runtime/gpu/gpu_device.cc:1181] Device interconnect StreamExecutor with strength 1 edge matrix:\n",
      "2023-10-18 04:51:20.963102: I tensorflow/core/common_runtime/gpu/gpu_device.cc:1187]      \n",
      " 48%|████▊     | 48/100 [03:41<04:28,  5.16s/it]"
     ]
    },
    {
     "name": "stdout",
     "output_type": "stream",
     "text": [
      "saved at number 48--natural images--\n"
     ]
    },
    {
     "name": "stderr",
     "output_type": "stream",
     "text": [
      "2023-10-18 04:51:25.980834: I tensorflow/core/common_runtime/gpu/gpu_device.cc:1181] Device interconnect StreamExecutor with strength 1 edge matrix:\n",
      "2023-10-18 04:51:25.980863: I tensorflow/core/common_runtime/gpu/gpu_device.cc:1187]      \n",
      " 49%|████▉     | 49/100 [03:46<04:28,  5.27s/it]"
     ]
    },
    {
     "name": "stdout",
     "output_type": "stream",
     "text": [
      "saved at number 49--natural images--\n"
     ]
    },
    {
     "name": "stderr",
     "output_type": "stream",
     "text": [
      "2023-10-18 04:51:31.523436: I tensorflow/core/common_runtime/gpu/gpu_device.cc:1181] Device interconnect StreamExecutor with strength 1 edge matrix:\n",
      "2023-10-18 04:51:31.523468: I tensorflow/core/common_runtime/gpu/gpu_device.cc:1187]      \n",
      " 50%|█████     | 50/100 [03:51<04:16,  5.14s/it]"
     ]
    },
    {
     "name": "stdout",
     "output_type": "stream",
     "text": [
      "saved at number 50--natural images--\n"
     ]
    },
    {
     "name": "stderr",
     "output_type": "stream",
     "text": [
      "2023-10-18 04:51:36.353862: I tensorflow/core/common_runtime/gpu/gpu_device.cc:1181] Device interconnect StreamExecutor with strength 1 edge matrix:\n",
      "2023-10-18 04:51:36.353891: I tensorflow/core/common_runtime/gpu/gpu_device.cc:1187]      \n",
      " 51%|█████     | 51/100 [03:56<04:15,  5.21s/it]"
     ]
    },
    {
     "name": "stdout",
     "output_type": "stream",
     "text": [
      "saved at number 51--natural images--\n"
     ]
    },
    {
     "name": "stderr",
     "output_type": "stream",
     "text": [
      "2023-10-18 04:51:41.710130: I tensorflow/core/common_runtime/gpu/gpu_device.cc:1181] Device interconnect StreamExecutor with strength 1 edge matrix:\n",
      "2023-10-18 04:51:41.710155: I tensorflow/core/common_runtime/gpu/gpu_device.cc:1187]      \n",
      " 52%|█████▏    | 52/100 [04:01<04:00,  5.02s/it]"
     ]
    },
    {
     "name": "stdout",
     "output_type": "stream",
     "text": [
      "saved at number 52--natural images--\n"
     ]
    },
    {
     "name": "stderr",
     "output_type": "stream",
     "text": [
      "2023-10-18 04:51:46.285233: I tensorflow/core/common_runtime/gpu/gpu_device.cc:1181] Device interconnect StreamExecutor with strength 1 edge matrix:\n",
      "2023-10-18 04:51:46.285261: I tensorflow/core/common_runtime/gpu/gpu_device.cc:1187]      \n",
      " 53%|█████▎    | 53/100 [04:06<03:53,  4.96s/it]"
     ]
    },
    {
     "name": "stdout",
     "output_type": "stream",
     "text": [
      "saved at number 53--natural images--\n"
     ]
    },
    {
     "name": "stderr",
     "output_type": "stream",
     "text": [
      "2023-10-18 04:51:51.123799: I tensorflow/core/common_runtime/gpu/gpu_device.cc:1181] Device interconnect StreamExecutor with strength 1 edge matrix:\n",
      "2023-10-18 04:51:51.123828: I tensorflow/core/common_runtime/gpu/gpu_device.cc:1187]      \n",
      " 54%|█████▍    | 54/100 [04:12<04:02,  5.27s/it]"
     ]
    },
    {
     "name": "stdout",
     "output_type": "stream",
     "text": [
      "saved at number 54--natural images--\n"
     ]
    },
    {
     "name": "stderr",
     "output_type": "stream",
     "text": [
      "2023-10-18 04:51:57.109688: I tensorflow/core/common_runtime/gpu/gpu_device.cc:1181] Device interconnect StreamExecutor with strength 1 edge matrix:\n",
      "2023-10-18 04:51:57.109717: I tensorflow/core/common_runtime/gpu/gpu_device.cc:1187]      \n",
      " 55%|█████▌    | 55/100 [04:17<03:56,  5.27s/it]"
     ]
    },
    {
     "name": "stdout",
     "output_type": "stream",
     "text": [
      "saved at number 55--natural images--\n"
     ]
    },
    {
     "name": "stderr",
     "output_type": "stream",
     "text": [
      "2023-10-18 04:52:02.362735: I tensorflow/core/common_runtime/gpu/gpu_device.cc:1181] Device interconnect StreamExecutor with strength 1 edge matrix:\n",
      "2023-10-18 04:52:02.362764: I tensorflow/core/common_runtime/gpu/gpu_device.cc:1187]      \n",
      " 56%|█████▌    | 56/100 [04:23<03:55,  5.36s/it]"
     ]
    },
    {
     "name": "stdout",
     "output_type": "stream",
     "text": [
      "saved at number 56--natural images--\n"
     ]
    },
    {
     "name": "stderr",
     "output_type": "stream",
     "text": [
      "2023-10-18 04:52:07.934186: I tensorflow/core/common_runtime/gpu/gpu_device.cc:1181] Device interconnect StreamExecutor with strength 1 edge matrix:\n",
      "2023-10-18 04:52:07.934214: I tensorflow/core/common_runtime/gpu/gpu_device.cc:1187]      \n",
      " 57%|█████▋    | 57/100 [04:28<03:53,  5.42s/it]"
     ]
    },
    {
     "name": "stdout",
     "output_type": "stream",
     "text": [
      "saved at number 57--natural images--\n"
     ]
    },
    {
     "name": "stderr",
     "output_type": "stream",
     "text": [
      "2023-10-18 04:52:13.504784: I tensorflow/core/common_runtime/gpu/gpu_device.cc:1181] Device interconnect StreamExecutor with strength 1 edge matrix:\n",
      "2023-10-18 04:52:13.504810: I tensorflow/core/common_runtime/gpu/gpu_device.cc:1187]      \n",
      " 58%|█████▊    | 58/100 [04:33<03:38,  5.21s/it]"
     ]
    },
    {
     "name": "stdout",
     "output_type": "stream",
     "text": [
      "saved at number 58--natural images--\n"
     ]
    },
    {
     "name": "stderr",
     "output_type": "stream",
     "text": [
      "2023-10-18 04:52:18.215878: I tensorflow/core/common_runtime/gpu/gpu_device.cc:1181] Device interconnect StreamExecutor with strength 1 edge matrix:\n",
      "2023-10-18 04:52:18.215904: I tensorflow/core/common_runtime/gpu/gpu_device.cc:1187]      \n",
      " 59%|█████▉    | 59/100 [04:38<03:30,  5.13s/it]"
     ]
    },
    {
     "name": "stdout",
     "output_type": "stream",
     "text": [
      "saved at number 59--natural images--\n"
     ]
    },
    {
     "name": "stderr",
     "output_type": "stream",
     "text": [
      "2023-10-18 04:52:23.163417: I tensorflow/core/common_runtime/gpu/gpu_device.cc:1181] Device interconnect StreamExecutor with strength 1 edge matrix:\n",
      "2023-10-18 04:52:23.163442: I tensorflow/core/common_runtime/gpu/gpu_device.cc:1187]      \n",
      " 60%|██████    | 60/100 [04:43<03:26,  5.15s/it]"
     ]
    },
    {
     "name": "stdout",
     "output_type": "stream",
     "text": [
      "saved at number 60--natural images--\n"
     ]
    },
    {
     "name": "stderr",
     "output_type": "stream",
     "text": [
      "2023-10-18 04:52:28.377474: I tensorflow/core/common_runtime/gpu/gpu_device.cc:1181] Device interconnect StreamExecutor with strength 1 edge matrix:\n",
      "2023-10-18 04:52:28.377500: I tensorflow/core/common_runtime/gpu/gpu_device.cc:1187]      \n",
      " 61%|██████    | 61/100 [04:48<03:12,  4.94s/it]"
     ]
    },
    {
     "name": "stdout",
     "output_type": "stream",
     "text": [
      "saved at number 61--natural images--\n"
     ]
    },
    {
     "name": "stderr",
     "output_type": "stream",
     "text": [
      "2023-10-18 04:52:32.816967: I tensorflow/core/common_runtime/gpu/gpu_device.cc:1181] Device interconnect StreamExecutor with strength 1 edge matrix:\n",
      "2023-10-18 04:52:32.816993: I tensorflow/core/common_runtime/gpu/gpu_device.cc:1187]      \n",
      " 62%|██████▏   | 62/100 [04:52<03:05,  4.89s/it]"
     ]
    },
    {
     "name": "stdout",
     "output_type": "stream",
     "text": [
      "saved at number 62--natural images--\n"
     ]
    },
    {
     "name": "stderr",
     "output_type": "stream",
     "text": [
      "2023-10-18 04:52:37.575091: I tensorflow/core/common_runtime/gpu/gpu_device.cc:1181] Device interconnect StreamExecutor with strength 1 edge matrix:\n",
      "2023-10-18 04:52:37.575113: I tensorflow/core/common_runtime/gpu/gpu_device.cc:1187]      \n",
      " 63%|██████▎   | 63/100 [04:57<02:59,  4.86s/it]"
     ]
    },
    {
     "name": "stdout",
     "output_type": "stream",
     "text": [
      "saved at number 63--natural images--\n"
     ]
    },
    {
     "name": "stderr",
     "output_type": "stream",
     "text": [
      "2023-10-18 04:52:42.354917: I tensorflow/core/common_runtime/gpu/gpu_device.cc:1181] Device interconnect StreamExecutor with strength 1 edge matrix:\n",
      "2023-10-18 04:52:42.354944: I tensorflow/core/common_runtime/gpu/gpu_device.cc:1187]      \n",
      " 64%|██████▍   | 64/100 [05:02<02:56,  4.91s/it]"
     ]
    },
    {
     "name": "stdout",
     "output_type": "stream",
     "text": [
      "saved at number 64--natural images--\n"
     ]
    },
    {
     "name": "stderr",
     "output_type": "stream",
     "text": [
      "2023-10-18 04:52:47.381254: I tensorflow/core/common_runtime/gpu/gpu_device.cc:1181] Device interconnect StreamExecutor with strength 1 edge matrix:\n",
      "2023-10-18 04:52:47.381280: I tensorflow/core/common_runtime/gpu/gpu_device.cc:1187]      \n",
      " 65%|██████▌   | 65/100 [05:07<02:47,  4.79s/it]"
     ]
    },
    {
     "name": "stdout",
     "output_type": "stream",
     "text": [
      "saved at number 65--natural images--\n"
     ]
    },
    {
     "name": "stderr",
     "output_type": "stream",
     "text": [
      "2023-10-18 04:52:51.888986: I tensorflow/core/common_runtime/gpu/gpu_device.cc:1181] Device interconnect StreamExecutor with strength 1 edge matrix:\n",
      "2023-10-18 04:52:51.889011: I tensorflow/core/common_runtime/gpu/gpu_device.cc:1187]      \n",
      " 66%|██████▌   | 66/100 [05:11<02:40,  4.72s/it]"
     ]
    },
    {
     "name": "stdout",
     "output_type": "stream",
     "text": [
      "saved at number 66--natural images--\n"
     ]
    },
    {
     "name": "stderr",
     "output_type": "stream",
     "text": [
      "2023-10-18 04:52:56.454273: I tensorflow/core/common_runtime/gpu/gpu_device.cc:1181] Device interconnect StreamExecutor with strength 1 edge matrix:\n",
      "2023-10-18 04:52:56.454299: I tensorflow/core/common_runtime/gpu/gpu_device.cc:1187]      \n",
      " 67%|██████▋   | 67/100 [05:16<02:35,  4.71s/it]"
     ]
    },
    {
     "name": "stdout",
     "output_type": "stream",
     "text": [
      "saved at number 67--natural images--\n"
     ]
    },
    {
     "name": "stderr",
     "output_type": "stream",
     "text": [
      "2023-10-18 04:53:01.151924: I tensorflow/core/common_runtime/gpu/gpu_device.cc:1181] Device interconnect StreamExecutor with strength 1 edge matrix:\n",
      "2023-10-18 04:53:01.151953: I tensorflow/core/common_runtime/gpu/gpu_device.cc:1187]      \n",
      " 68%|██████▊   | 68/100 [05:20<02:30,  4.69s/it]"
     ]
    },
    {
     "name": "stdout",
     "output_type": "stream",
     "text": [
      "saved at number 68--natural images--\n"
     ]
    },
    {
     "name": "stderr",
     "output_type": "stream",
     "text": [
      "2023-10-18 04:53:05.784627: I tensorflow/core/common_runtime/gpu/gpu_device.cc:1181] Device interconnect StreamExecutor with strength 1 edge matrix:\n",
      "2023-10-18 04:53:05.784655: I tensorflow/core/common_runtime/gpu/gpu_device.cc:1187]      \n",
      " 69%|██████▉   | 69/100 [05:25<02:27,  4.75s/it]"
     ]
    },
    {
     "name": "stdout",
     "output_type": "stream",
     "text": [
      "saved at number 69--natural images--\n"
     ]
    },
    {
     "name": "stderr",
     "output_type": "stream",
     "text": [
      "2023-10-18 04:53:10.670039: I tensorflow/core/common_runtime/gpu/gpu_device.cc:1181] Device interconnect StreamExecutor with strength 1 edge matrix:\n",
      "2023-10-18 04:53:10.670067: I tensorflow/core/common_runtime/gpu/gpu_device.cc:1187]      \n",
      " 70%|███████   | 70/100 [05:30<02:23,  4.78s/it]"
     ]
    },
    {
     "name": "stdout",
     "output_type": "stream",
     "text": [
      "saved at number 70--natural images--\n"
     ]
    },
    {
     "name": "stderr",
     "output_type": "stream",
     "text": [
      "2023-10-18 04:53:15.543404: I tensorflow/core/common_runtime/gpu/gpu_device.cc:1181] Device interconnect StreamExecutor with strength 1 edge matrix:\n",
      "2023-10-18 04:53:15.543430: I tensorflow/core/common_runtime/gpu/gpu_device.cc:1187]      \n",
      " 71%|███████   | 71/100 [05:35<02:18,  4.77s/it]"
     ]
    },
    {
     "name": "stdout",
     "output_type": "stream",
     "text": [
      "saved at number 71--natural images--\n"
     ]
    },
    {
     "name": "stderr",
     "output_type": "stream",
     "text": [
      "2023-10-18 04:53:20.258712: I tensorflow/core/common_runtime/gpu/gpu_device.cc:1181] Device interconnect StreamExecutor with strength 1 edge matrix:\n",
      "2023-10-18 04:53:20.258741: I tensorflow/core/common_runtime/gpu/gpu_device.cc:1187]      \n",
      " 72%|███████▏  | 72/100 [05:39<02:11,  4.68s/it]"
     ]
    },
    {
     "name": "stdout",
     "output_type": "stream",
     "text": [
      "saved at number 72--natural images--\n"
     ]
    },
    {
     "name": "stderr",
     "output_type": "stream",
     "text": [
      "2023-10-18 04:53:24.744766: I tensorflow/core/common_runtime/gpu/gpu_device.cc:1181] Device interconnect StreamExecutor with strength 1 edge matrix:\n",
      "2023-10-18 04:53:24.744793: I tensorflow/core/common_runtime/gpu/gpu_device.cc:1187]      \n",
      " 73%|███████▎  | 73/100 [05:44<02:05,  4.63s/it]"
     ]
    },
    {
     "name": "stdout",
     "output_type": "stream",
     "text": [
      "saved at number 73--natural images--\n"
     ]
    },
    {
     "name": "stderr",
     "output_type": "stream",
     "text": [
      "2023-10-18 04:53:29.257018: I tensorflow/core/common_runtime/gpu/gpu_device.cc:1181] Device interconnect StreamExecutor with strength 1 edge matrix:\n",
      "2023-10-18 04:53:29.257042: I tensorflow/core/common_runtime/gpu/gpu_device.cc:1187]      \n",
      " 74%|███████▍  | 74/100 [05:49<02:01,  4.67s/it]"
     ]
    },
    {
     "name": "stdout",
     "output_type": "stream",
     "text": [
      "saved at number 74--natural images--\n"
     ]
    },
    {
     "name": "stderr",
     "output_type": "stream",
     "text": [
      "2023-10-18 04:53:34.015180: I tensorflow/core/common_runtime/gpu/gpu_device.cc:1181] Device interconnect StreamExecutor with strength 1 edge matrix:\n",
      "2023-10-18 04:53:34.015208: I tensorflow/core/common_runtime/gpu/gpu_device.cc:1187]      \n",
      " 75%|███████▌  | 75/100 [05:53<01:56,  4.66s/it]"
     ]
    },
    {
     "name": "stdout",
     "output_type": "stream",
     "text": [
      "saved at number 75--natural images--\n"
     ]
    },
    {
     "name": "stderr",
     "output_type": "stream",
     "text": [
      "2023-10-18 04:53:38.664238: I tensorflow/core/common_runtime/gpu/gpu_device.cc:1181] Device interconnect StreamExecutor with strength 1 edge matrix:\n",
      "2023-10-18 04:53:38.664268: I tensorflow/core/common_runtime/gpu/gpu_device.cc:1187]      \n",
      " 76%|███████▌  | 76/100 [05:58<01:51,  4.66s/it]"
     ]
    },
    {
     "name": "stdout",
     "output_type": "stream",
     "text": [
      "saved at number 76--natural images--\n"
     ]
    },
    {
     "name": "stderr",
     "output_type": "stream",
     "text": [
      "2023-10-18 04:53:43.302850: I tensorflow/core/common_runtime/gpu/gpu_device.cc:1181] Device interconnect StreamExecutor with strength 1 edge matrix:\n",
      "2023-10-18 04:53:43.302878: I tensorflow/core/common_runtime/gpu/gpu_device.cc:1187]      \n",
      " 77%|███████▋  | 77/100 [06:03<01:47,  4.67s/it]"
     ]
    },
    {
     "name": "stdout",
     "output_type": "stream",
     "text": [
      "saved at number 77--natural images--\n"
     ]
    },
    {
     "name": "stderr",
     "output_type": "stream",
     "text": [
      "2023-10-18 04:53:48.017768: I tensorflow/core/common_runtime/gpu/gpu_device.cc:1181] Device interconnect StreamExecutor with strength 1 edge matrix:\n",
      "2023-10-18 04:53:48.017795: I tensorflow/core/common_runtime/gpu/gpu_device.cc:1187]      \n",
      " 78%|███████▊  | 78/100 [06:07<01:43,  4.70s/it]"
     ]
    },
    {
     "name": "stdout",
     "output_type": "stream",
     "text": [
      "saved at number 78--natural images--\n"
     ]
    },
    {
     "name": "stderr",
     "output_type": "stream",
     "text": [
      "2023-10-18 04:53:52.771718: I tensorflow/core/common_runtime/gpu/gpu_device.cc:1181] Device interconnect StreamExecutor with strength 1 edge matrix:\n",
      "2023-10-18 04:53:52.771743: I tensorflow/core/common_runtime/gpu/gpu_device.cc:1187]      \n",
      " 79%|███████▉  | 79/100 [06:12<01:39,  4.72s/it]"
     ]
    },
    {
     "name": "stdout",
     "output_type": "stream",
     "text": [
      "saved at number 79--natural images--\n"
     ]
    },
    {
     "name": "stderr",
     "output_type": "stream",
     "text": [
      "2023-10-18 04:53:57.545549: I tensorflow/core/common_runtime/gpu/gpu_device.cc:1181] Device interconnect StreamExecutor with strength 1 edge matrix:\n",
      "2023-10-18 04:53:57.545576: I tensorflow/core/common_runtime/gpu/gpu_device.cc:1187]      \n",
      " 80%|████████  | 80/100 [06:17<01:34,  4.75s/it]"
     ]
    },
    {
     "name": "stdout",
     "output_type": "stream",
     "text": [
      "saved at number 80--natural images--\n"
     ]
    },
    {
     "name": "stderr",
     "output_type": "stream",
     "text": [
      "2023-10-18 04:54:02.371643: I tensorflow/core/common_runtime/gpu/gpu_device.cc:1181] Device interconnect StreamExecutor with strength 1 edge matrix:\n",
      "2023-10-18 04:54:02.371671: I tensorflow/core/common_runtime/gpu/gpu_device.cc:1187]      \n",
      " 81%|████████  | 81/100 [06:22<01:30,  4.77s/it]"
     ]
    },
    {
     "name": "stdout",
     "output_type": "stream",
     "text": [
      "saved at number 81--natural images--\n"
     ]
    },
    {
     "name": "stderr",
     "output_type": "stream",
     "text": [
      "2023-10-18 04:54:07.187533: I tensorflow/core/common_runtime/gpu/gpu_device.cc:1181] Device interconnect StreamExecutor with strength 1 edge matrix:\n",
      "2023-10-18 04:54:07.187562: I tensorflow/core/common_runtime/gpu/gpu_device.cc:1187]      \n",
      " 82%|████████▏ | 82/100 [06:26<01:24,  4.71s/it]"
     ]
    },
    {
     "name": "stdout",
     "output_type": "stream",
     "text": [
      "saved at number 82--natural images--\n"
     ]
    },
    {
     "name": "stderr",
     "output_type": "stream",
     "text": [
      "2023-10-18 04:54:11.750225: I tensorflow/core/common_runtime/gpu/gpu_device.cc:1181] Device interconnect StreamExecutor with strength 1 edge matrix:\n",
      "2023-10-18 04:54:11.750251: I tensorflow/core/common_runtime/gpu/gpu_device.cc:1187]      \n",
      " 83%|████████▎ | 83/100 [06:31<01:19,  4.67s/it]"
     ]
    },
    {
     "name": "stdout",
     "output_type": "stream",
     "text": [
      "saved at number 83--natural images--\n"
     ]
    },
    {
     "name": "stderr",
     "output_type": "stream",
     "text": [
      "2023-10-18 04:54:16.322544: I tensorflow/core/common_runtime/gpu/gpu_device.cc:1181] Device interconnect StreamExecutor with strength 1 edge matrix:\n",
      "2023-10-18 04:54:16.322571: I tensorflow/core/common_runtime/gpu/gpu_device.cc:1187]      \n",
      " 84%|████████▍ | 84/100 [06:36<01:15,  4.72s/it]"
     ]
    },
    {
     "name": "stdout",
     "output_type": "stream",
     "text": [
      "saved at number 84--natural images--\n"
     ]
    },
    {
     "name": "stderr",
     "output_type": "stream",
     "text": [
      "2023-10-18 04:54:21.177297: I tensorflow/core/common_runtime/gpu/gpu_device.cc:1181] Device interconnect StreamExecutor with strength 1 edge matrix:\n",
      "2023-10-18 04:54:21.177327: I tensorflow/core/common_runtime/gpu/gpu_device.cc:1187]      \n",
      " 85%|████████▌ | 85/100 [06:41<01:11,  4.74s/it]"
     ]
    },
    {
     "name": "stdout",
     "output_type": "stream",
     "text": [
      "saved at number 85--natural images--\n"
     ]
    },
    {
     "name": "stderr",
     "output_type": "stream",
     "text": [
      "2023-10-18 04:54:25.963817: I tensorflow/core/common_runtime/gpu/gpu_device.cc:1181] Device interconnect StreamExecutor with strength 1 edge matrix:\n",
      "2023-10-18 04:54:25.963844: I tensorflow/core/common_runtime/gpu/gpu_device.cc:1187]      \n",
      " 86%|████████▌ | 86/100 [06:45<01:06,  4.73s/it]"
     ]
    },
    {
     "name": "stdout",
     "output_type": "stream",
     "text": [
      "saved at number 86--natural images--\n"
     ]
    },
    {
     "name": "stderr",
     "output_type": "stream",
     "text": [
      "2023-10-18 04:54:30.654376: I tensorflow/core/common_runtime/gpu/gpu_device.cc:1181] Device interconnect StreamExecutor with strength 1 edge matrix:\n",
      "2023-10-18 04:54:30.654404: I tensorflow/core/common_runtime/gpu/gpu_device.cc:1187]      \n",
      " 87%|████████▋ | 87/100 [06:50<01:01,  4.71s/it]"
     ]
    },
    {
     "name": "stdout",
     "output_type": "stream",
     "text": [
      "saved at number 87--natural images--\n"
     ]
    },
    {
     "name": "stderr",
     "output_type": "stream",
     "text": [
      "2023-10-18 04:54:35.306169: I tensorflow/core/common_runtime/gpu/gpu_device.cc:1181] Device interconnect StreamExecutor with strength 1 edge matrix:\n",
      "2023-10-18 04:54:35.306194: I tensorflow/core/common_runtime/gpu/gpu_device.cc:1187]      \n",
      " 88%|████████▊ | 88/100 [06:55<00:56,  4.68s/it]"
     ]
    },
    {
     "name": "stdout",
     "output_type": "stream",
     "text": [
      "saved at number 88--natural images--\n"
     ]
    },
    {
     "name": "stderr",
     "output_type": "stream",
     "text": [
      "2023-10-18 04:54:39.940898: I tensorflow/core/common_runtime/gpu/gpu_device.cc:1181] Device interconnect StreamExecutor with strength 1 edge matrix:\n",
      "2023-10-18 04:54:39.940924: I tensorflow/core/common_runtime/gpu/gpu_device.cc:1187]      \n",
      " 89%|████████▉ | 89/100 [06:59<00:51,  4.71s/it]"
     ]
    },
    {
     "name": "stdout",
     "output_type": "stream",
     "text": [
      "saved at number 89--natural images--\n"
     ]
    },
    {
     "name": "stderr",
     "output_type": "stream",
     "text": [
      "2023-10-18 04:54:44.698866: I tensorflow/core/common_runtime/gpu/gpu_device.cc:1181] Device interconnect StreamExecutor with strength 1 edge matrix:\n",
      "2023-10-18 04:54:44.698892: I tensorflow/core/common_runtime/gpu/gpu_device.cc:1187]      \n",
      " 90%|█████████ | 90/100 [07:04<00:47,  4.72s/it]"
     ]
    },
    {
     "name": "stdout",
     "output_type": "stream",
     "text": [
      "saved at number 90--natural images--\n"
     ]
    },
    {
     "name": "stderr",
     "output_type": "stream",
     "text": [
      "2023-10-18 04:54:49.446758: I tensorflow/core/common_runtime/gpu/gpu_device.cc:1181] Device interconnect StreamExecutor with strength 1 edge matrix:\n",
      "2023-10-18 04:54:49.446786: I tensorflow/core/common_runtime/gpu/gpu_device.cc:1187]      \n",
      " 91%|█████████ | 91/100 [07:09<00:42,  4.74s/it]"
     ]
    },
    {
     "name": "stdout",
     "output_type": "stream",
     "text": [
      "saved at number 91--natural images--\n"
     ]
    },
    {
     "name": "stderr",
     "output_type": "stream",
     "text": [
      "2023-10-18 04:54:54.235242: I tensorflow/core/common_runtime/gpu/gpu_device.cc:1181] Device interconnect StreamExecutor with strength 1 edge matrix:\n",
      "2023-10-18 04:54:54.235267: I tensorflow/core/common_runtime/gpu/gpu_device.cc:1187]      \n",
      " 92%|█████████▏| 92/100 [07:14<00:37,  4.75s/it]"
     ]
    },
    {
     "name": "stdout",
     "output_type": "stream",
     "text": [
      "saved at number 92--natural images--\n"
     ]
    },
    {
     "name": "stderr",
     "output_type": "stream",
     "text": [
      "2023-10-18 04:54:59.004182: I tensorflow/core/common_runtime/gpu/gpu_device.cc:1181] Device interconnect StreamExecutor with strength 1 edge matrix:\n",
      "2023-10-18 04:54:59.004210: I tensorflow/core/common_runtime/gpu/gpu_device.cc:1187]      \n",
      " 93%|█████████▎| 93/100 [07:18<00:33,  4.75s/it]"
     ]
    },
    {
     "name": "stdout",
     "output_type": "stream",
     "text": [
      "saved at number 93--natural images--\n"
     ]
    },
    {
     "name": "stderr",
     "output_type": "stream",
     "text": [
      "2023-10-18 04:55:03.770566: I tensorflow/core/common_runtime/gpu/gpu_device.cc:1181] Device interconnect StreamExecutor with strength 1 edge matrix:\n",
      "2023-10-18 04:55:03.770589: I tensorflow/core/common_runtime/gpu/gpu_device.cc:1187]      \n",
      " 94%|█████████▍| 94/100 [07:23<00:28,  4.75s/it]"
     ]
    },
    {
     "name": "stdout",
     "output_type": "stream",
     "text": [
      "saved at number 94--natural images--\n"
     ]
    },
    {
     "name": "stderr",
     "output_type": "stream",
     "text": [
      "2023-10-18 04:55:08.524627: I tensorflow/core/common_runtime/gpu/gpu_device.cc:1181] Device interconnect StreamExecutor with strength 1 edge matrix:\n",
      "2023-10-18 04:55:08.524655: I tensorflow/core/common_runtime/gpu/gpu_device.cc:1187]      \n",
      " 95%|█████████▌| 95/100 [07:28<00:23,  4.71s/it]"
     ]
    },
    {
     "name": "stdout",
     "output_type": "stream",
     "text": [
      "saved at number 95--natural images--\n"
     ]
    },
    {
     "name": "stderr",
     "output_type": "stream",
     "text": [
      "2023-10-18 04:55:13.146971: I tensorflow/core/common_runtime/gpu/gpu_device.cc:1181] Device interconnect StreamExecutor with strength 1 edge matrix:\n",
      "2023-10-18 04:55:13.147001: I tensorflow/core/common_runtime/gpu/gpu_device.cc:1187]      \n",
      " 96%|█████████▌| 96/100 [07:32<00:18,  4.68s/it]"
     ]
    },
    {
     "name": "stdout",
     "output_type": "stream",
     "text": [
      "saved at number 96--natural images--\n"
     ]
    },
    {
     "name": "stderr",
     "output_type": "stream",
     "text": [
      "2023-10-18 04:55:17.754959: I tensorflow/core/common_runtime/gpu/gpu_device.cc:1181] Device interconnect StreamExecutor with strength 1 edge matrix:\n",
      "2023-10-18 04:55:17.754985: I tensorflow/core/common_runtime/gpu/gpu_device.cc:1187]      \n",
      " 97%|█████████▋| 97/100 [07:37<00:14,  4.68s/it]"
     ]
    },
    {
     "name": "stdout",
     "output_type": "stream",
     "text": [
      "saved at number 97--natural images--\n"
     ]
    },
    {
     "name": "stderr",
     "output_type": "stream",
     "text": [
      "2023-10-18 04:55:22.423722: I tensorflow/core/common_runtime/gpu/gpu_device.cc:1181] Device interconnect StreamExecutor with strength 1 edge matrix:\n",
      "2023-10-18 04:55:22.423751: I tensorflow/core/common_runtime/gpu/gpu_device.cc:1187]      \n",
      " 98%|█████████▊| 98/100 [07:42<00:09,  4.74s/it]"
     ]
    },
    {
     "name": "stdout",
     "output_type": "stream",
     "text": [
      "saved at number 98--natural images--\n"
     ]
    },
    {
     "name": "stderr",
     "output_type": "stream",
     "text": [
      "2023-10-18 04:55:27.319116: I tensorflow/core/common_runtime/gpu/gpu_device.cc:1181] Device interconnect StreamExecutor with strength 1 edge matrix:\n",
      "2023-10-18 04:55:27.319145: I tensorflow/core/common_runtime/gpu/gpu_device.cc:1187]      \n",
      " 99%|█████████▉| 99/100 [07:47<00:04,  4.81s/it]"
     ]
    },
    {
     "name": "stdout",
     "output_type": "stream",
     "text": [
      "saved at number 99--natural images--\n"
     ]
    },
    {
     "name": "stderr",
     "output_type": "stream",
     "text": [
      "2023-10-18 04:55:32.274840: I tensorflow/core/common_runtime/gpu/gpu_device.cc:1181] Device interconnect StreamExecutor with strength 1 edge matrix:\n",
      "2023-10-18 04:55:32.274868: I tensorflow/core/common_runtime/gpu/gpu_device.cc:1187]      \n",
      "100%|██████████| 100/100 [07:52<00:00,  4.72s/it]\n"
     ]
    },
    {
     "name": "stdout",
     "output_type": "stream",
     "text": [
      "saved at number 100--natural images--\n",
      "******************DONE-phase 1******************************\n"
     ]
    },
    {
     "name": "stderr",
     "output_type": "stream",
     "text": [
      "  0%|          | 0/58 [00:00<?, ?it/s]2023-10-18 04:55:37.049637: I tensorflow/core/common_runtime/gpu/gpu_device.cc:1181] Device interconnect StreamExecutor with strength 1 edge matrix:\n",
      "2023-10-18 04:55:37.049661: I tensorflow/core/common_runtime/gpu/gpu_device.cc:1187]      \n",
      "  2%|▏         | 1/58 [00:04<04:30,  4.74s/it]"
     ]
    },
    {
     "name": "stdout",
     "output_type": "stream",
     "text": [
      "saved at number 1--recapture images--\n"
     ]
    },
    {
     "name": "stderr",
     "output_type": "stream",
     "text": [
      "2023-10-18 04:55:41.789904: I tensorflow/core/common_runtime/gpu/gpu_device.cc:1181] Device interconnect StreamExecutor with strength 1 edge matrix:\n",
      "2023-10-18 04:55:41.789929: I tensorflow/core/common_runtime/gpu/gpu_device.cc:1187]      \n",
      "  3%|▎         | 2/58 [00:09<04:27,  4.78s/it]"
     ]
    },
    {
     "name": "stdout",
     "output_type": "stream",
     "text": [
      "saved at number 2--recapture images--\n"
     ]
    },
    {
     "name": "stderr",
     "output_type": "stream",
     "text": [
      "2023-10-18 04:55:46.599346: I tensorflow/core/common_runtime/gpu/gpu_device.cc:1181] Device interconnect StreamExecutor with strength 1 edge matrix:\n",
      "2023-10-18 04:55:46.599374: I tensorflow/core/common_runtime/gpu/gpu_device.cc:1187]      \n",
      "  5%|▌         | 3/58 [00:14<04:26,  4.85s/it]"
     ]
    },
    {
     "name": "stdout",
     "output_type": "stream",
     "text": [
      "saved at number 3--recapture images--\n"
     ]
    },
    {
     "name": "stderr",
     "output_type": "stream",
     "text": [
      "2023-10-18 04:55:51.539284: I tensorflow/core/common_runtime/gpu/gpu_device.cc:1181] Device interconnect StreamExecutor with strength 1 edge matrix:\n",
      "2023-10-18 04:55:51.539313: I tensorflow/core/common_runtime/gpu/gpu_device.cc:1187]      \n",
      "  7%|▋         | 4/58 [00:19<04:22,  4.86s/it]"
     ]
    },
    {
     "name": "stdout",
     "output_type": "stream",
     "text": [
      "saved at number 4--recapture images--\n"
     ]
    },
    {
     "name": "stderr",
     "output_type": "stream",
     "text": [
      "2023-10-18 04:55:56.418101: I tensorflow/core/common_runtime/gpu/gpu_device.cc:1181] Device interconnect StreamExecutor with strength 1 edge matrix:\n",
      "2023-10-18 04:55:56.418128: I tensorflow/core/common_runtime/gpu/gpu_device.cc:1187]      \n",
      "  9%|▊         | 5/58 [00:24<04:18,  4.88s/it]"
     ]
    },
    {
     "name": "stdout",
     "output_type": "stream",
     "text": [
      "saved at number 5--recapture images--\n"
     ]
    },
    {
     "name": "stderr",
     "output_type": "stream",
     "text": [
      "2023-10-18 04:56:01.370048: I tensorflow/core/common_runtime/gpu/gpu_device.cc:1181] Device interconnect StreamExecutor with strength 1 edge matrix:\n",
      "2023-10-18 04:56:01.370075: I tensorflow/core/common_runtime/gpu/gpu_device.cc:1187]      \n",
      " 10%|█         | 6/58 [00:29<04:15,  4.91s/it]"
     ]
    },
    {
     "name": "stdout",
     "output_type": "stream",
     "text": [
      "saved at number 6--recapture images--\n"
     ]
    },
    {
     "name": "stderr",
     "output_type": "stream",
     "text": [
      "2023-10-18 04:56:06.311274: I tensorflow/core/common_runtime/gpu/gpu_device.cc:1181] Device interconnect StreamExecutor with strength 1 edge matrix:\n",
      "2023-10-18 04:56:06.311299: I tensorflow/core/common_runtime/gpu/gpu_device.cc:1187]      \n",
      " 12%|█▏        | 7/58 [00:34<04:10,  4.91s/it]"
     ]
    },
    {
     "name": "stdout",
     "output_type": "stream",
     "text": [
      "saved at number 7--recapture images--\n"
     ]
    },
    {
     "name": "stderr",
     "output_type": "stream",
     "text": [
      "2023-10-18 04:56:11.228244: I tensorflow/core/common_runtime/gpu/gpu_device.cc:1181] Device interconnect StreamExecutor with strength 1 edge matrix:\n",
      "2023-10-18 04:56:11.228272: I tensorflow/core/common_runtime/gpu/gpu_device.cc:1187]      \n",
      " 14%|█▍        | 8/58 [00:39<04:03,  4.88s/it]"
     ]
    },
    {
     "name": "stdout",
     "output_type": "stream",
     "text": [
      "saved at number 8--recapture images--\n"
     ]
    },
    {
     "name": "stderr",
     "output_type": "stream",
     "text": [
      "\n"
     ]
    },
    {
     "ename": "ValueError",
     "evalue": "all dims of 'image.shape' must be > 0: (1, 710, 0, 3)",
     "output_type": "error",
     "traceback": [
      "\u001b[0;31m---------------------------------------------------------------------------\u001b[0m",
      "\u001b[0;31mValueError\u001b[0m                                Traceback (most recent call last)",
      "\u001b[0;32m/tmp/ipykernel_82105/2042964426.py\u001b[0m in \u001b[0;36m<module>\u001b[0;34m\u001b[0m\n\u001b[1;32m     23\u001b[0m \u001b[0mlabel\u001b[0m \u001b[0;34m=\u001b[0m \u001b[0;34m[\u001b[0m\u001b[0;34m]\u001b[0m\u001b[0;34m\u001b[0m\u001b[0;34m\u001b[0m\u001b[0m\n\u001b[1;32m     24\u001b[0m \u001b[0;32mfor\u001b[0m \u001b[0mitem\u001b[0m \u001b[0;32min\u001b[0m \u001b[0mtqdm\u001b[0m\u001b[0;34m(\u001b[0m\u001b[0mos\u001b[0m\u001b[0;34m.\u001b[0m\u001b[0mlistdir\u001b[0m\u001b[0;34m(\u001b[0m\u001b[0mBASE2\u001b[0m\u001b[0;34m)\u001b[0m\u001b[0;34m)\u001b[0m\u001b[0;34m:\u001b[0m\u001b[0;34m\u001b[0m\u001b[0;34m\u001b[0m\u001b[0m\n\u001b[0;32m---> 25\u001b[0;31m     \u001b[0mpatch_img_to_file\u001b[0m\u001b[0;34m(\u001b[0m\u001b[0mBASE2\u001b[0m\u001b[0;34m,\u001b[0m \u001b[0mitem\u001b[0m\u001b[0;34m,\u001b[0m \u001b[0mDES2\u001b[0m\u001b[0;34m,\u001b[0m \u001b[0;36m1\u001b[0m\u001b[0;34m)\u001b[0m\u001b[0;34m\u001b[0m\u001b[0;34m\u001b[0m\u001b[0m\n\u001b[0m\u001b[1;32m     26\u001b[0m     \u001b[0;31m# if(cnt2 % 75 == 0):\u001b[0m\u001b[0;34m\u001b[0m\u001b[0;34m\u001b[0m\u001b[0;34m\u001b[0m\u001b[0m\n\u001b[1;32m     27\u001b[0m     \u001b[0mnp_data\u001b[0m \u001b[0;34m=\u001b[0m \u001b[0mnp\u001b[0m\u001b[0;34m.\u001b[0m\u001b[0masarray\u001b[0m\u001b[0;34m(\u001b[0m\u001b[0mdata\u001b[0m\u001b[0;34m)\u001b[0m\u001b[0;34m\u001b[0m\u001b[0;34m\u001b[0m\u001b[0m\n",
      "\u001b[0;32m/tmp/ipykernel_82105/3630099588.py\u001b[0m in \u001b[0;36mpatch_img_to_file\u001b[0;34m(base_path, file_name, dest, label_anno)\u001b[0m\n\u001b[1;32m     51\u001b[0m     \u001b[0mtile_size\u001b[0m \u001b[0;34m=\u001b[0m \u001b[0;36m355\u001b[0m \u001b[0;31m#512\u001b[0m\u001b[0;34m\u001b[0m\u001b[0;34m\u001b[0m\u001b[0m\n\u001b[1;32m     52\u001b[0m     \u001b[0mimage\u001b[0m \u001b[0;34m=\u001b[0m \u001b[0mtf\u001b[0m\u001b[0;34m.\u001b[0m\u001b[0mconstant\u001b[0m\u001b[0;34m(\u001b[0m\u001b[0mimage\u001b[0m\u001b[0;34m)\u001b[0m\u001b[0;34m\u001b[0m\u001b[0;34m\u001b[0m\u001b[0m\n\u001b[0;32m---> 53\u001b[0;31m     \u001b[0mtiles\u001b[0m \u001b[0;34m=\u001b[0m \u001b[0mimage_to_patches\u001b[0m\u001b[0;34m(\u001b[0m\u001b[0mimage\u001b[0m\u001b[0;34m,\u001b[0m \u001b[0mtile_size\u001b[0m\u001b[0;34m,\u001b[0m \u001b[0mtile_size\u001b[0m\u001b[0;34m)\u001b[0m\u001b[0;34m\u001b[0m\u001b[0;34m\u001b[0m\u001b[0m\n\u001b[0m\u001b[1;32m     54\u001b[0m     \u001b[0msess\u001b[0m \u001b[0;34m=\u001b[0m \u001b[0mtf\u001b[0m\u001b[0;34m.\u001b[0m\u001b[0mSession\u001b[0m\u001b[0;34m(\u001b[0m\u001b[0;34m)\u001b[0m\u001b[0;34m\u001b[0m\u001b[0;34m\u001b[0m\u001b[0m\n\u001b[1;32m     55\u001b[0m     \u001b[0mI\u001b[0m\u001b[0;34m,\u001b[0m \u001b[0mtiles\u001b[0m \u001b[0;34m=\u001b[0m \u001b[0msess\u001b[0m\u001b[0;34m.\u001b[0m\u001b[0mrun\u001b[0m\u001b[0;34m(\u001b[0m\u001b[0;34m[\u001b[0m\u001b[0mimage\u001b[0m\u001b[0;34m,\u001b[0m \u001b[0mtiles\u001b[0m\u001b[0;34m]\u001b[0m\u001b[0;34m)\u001b[0m\u001b[0;34m\u001b[0m\u001b[0;34m\u001b[0m\u001b[0m\n",
      "\u001b[0;32m/tmp/ipykernel_82105/3630099588.py\u001b[0m in \u001b[0;36mimage_to_patches\u001b[0;34m(image, patch_height, patch_width)\u001b[0m\n\u001b[1;32m     18\u001b[0m     \u001b[0mnum_cols\u001b[0m \u001b[0;34m=\u001b[0m \u001b[0mwidth\u001b[0m \u001b[0;34m//\u001b[0m \u001b[0mpatch_width\u001b[0m\u001b[0;34m\u001b[0m\u001b[0;34m\u001b[0m\u001b[0m\n\u001b[1;32m     19\u001b[0m     \u001b[0;31m# make zero-padding\u001b[0m\u001b[0;34m\u001b[0m\u001b[0;34m\u001b[0m\u001b[0;34m\u001b[0m\u001b[0m\n\u001b[0;32m---> 20\u001b[0;31m     \u001b[0mimage\u001b[0m \u001b[0;34m=\u001b[0m \u001b[0mtf\u001b[0m\u001b[0;34m.\u001b[0m\u001b[0msqueeze\u001b[0m\u001b[0;34m(\u001b[0m\u001b[0mtf\u001b[0m\u001b[0;34m.\u001b[0m\u001b[0mimage\u001b[0m\u001b[0;34m.\u001b[0m\u001b[0mresize_image_with_crop_or_pad\u001b[0m\u001b[0;34m(\u001b[0m\u001b[0mimage\u001b[0m\u001b[0;34m,\u001b[0m \u001b[0mheight\u001b[0m\u001b[0;34m,\u001b[0m \u001b[0mwidth\u001b[0m\u001b[0;34m)\u001b[0m\u001b[0;34m)\u001b[0m\u001b[0;34m\u001b[0m\u001b[0;34m\u001b[0m\u001b[0m\n\u001b[0m\u001b[1;32m     21\u001b[0m \u001b[0;34m\u001b[0m\u001b[0m\n\u001b[1;32m     22\u001b[0m     \u001b[0;31m# get slices along the 0-th axis\u001b[0m\u001b[0;34m\u001b[0m\u001b[0;34m\u001b[0m\u001b[0;34m\u001b[0m\u001b[0m\n",
      "\u001b[0;32m/opt/conda/lib/python3.7/site-packages/tensorflow/python/ops/image_ops_impl.py\u001b[0m in \u001b[0;36mresize_image_with_crop_or_pad\u001b[0;34m(image, target_height, target_width)\u001b[0m\n\u001b[1;32m    977\u001b[0m     \u001b[0;31m# Maybe pad if needed.\u001b[0m\u001b[0;34m\u001b[0m\u001b[0;34m\u001b[0m\u001b[0;34m\u001b[0m\u001b[0m\n\u001b[1;32m    978\u001b[0m     resized = pad_to_bounding_box(cropped, offset_pad_height, offset_pad_width,\n\u001b[0;32m--> 979\u001b[0;31m                                   target_height, target_width)\n\u001b[0m\u001b[1;32m    980\u001b[0m \u001b[0;34m\u001b[0m\u001b[0m\n\u001b[1;32m    981\u001b[0m     \u001b[0;31m# In theory all the checks below are redundant.\u001b[0m\u001b[0;34m\u001b[0m\u001b[0;34m\u001b[0m\u001b[0;34m\u001b[0m\u001b[0m\n",
      "\u001b[0;32m/opt/conda/lib/python3.7/site-packages/tensorflow/python/ops/image_ops_impl.py\u001b[0m in \u001b[0;36mpad_to_bounding_box\u001b[0;34m(image, offset_height, offset_width, target_height, target_width)\u001b[0m\n\u001b[1;32m    765\u001b[0m       \u001b[0;32mraise\u001b[0m \u001b[0mValueError\u001b[0m\u001b[0;34m(\u001b[0m\u001b[0;34m'\\'image\\' must have either 3 or 4 dimensions.'\u001b[0m\u001b[0;34m)\u001b[0m\u001b[0;34m\u001b[0m\u001b[0;34m\u001b[0m\u001b[0m\n\u001b[1;32m    766\u001b[0m \u001b[0;34m\u001b[0m\u001b[0m\n\u001b[0;32m--> 767\u001b[0;31m     \u001b[0massert_ops\u001b[0m \u001b[0;34m=\u001b[0m \u001b[0m_CheckAtLeast3DImage\u001b[0m\u001b[0;34m(\u001b[0m\u001b[0mimage\u001b[0m\u001b[0;34m,\u001b[0m \u001b[0mrequire_static\u001b[0m\u001b[0;34m=\u001b[0m\u001b[0;32mFalse\u001b[0m\u001b[0;34m)\u001b[0m\u001b[0;34m\u001b[0m\u001b[0;34m\u001b[0m\u001b[0m\n\u001b[0m\u001b[1;32m    768\u001b[0m     \u001b[0mbatch\u001b[0m\u001b[0;34m,\u001b[0m \u001b[0mheight\u001b[0m\u001b[0;34m,\u001b[0m \u001b[0mwidth\u001b[0m\u001b[0;34m,\u001b[0m \u001b[0mdepth\u001b[0m \u001b[0;34m=\u001b[0m \u001b[0m_ImageDimensions\u001b[0m\u001b[0;34m(\u001b[0m\u001b[0mimage\u001b[0m\u001b[0;34m,\u001b[0m \u001b[0mrank\u001b[0m\u001b[0;34m=\u001b[0m\u001b[0;36m4\u001b[0m\u001b[0;34m)\u001b[0m\u001b[0;34m\u001b[0m\u001b[0;34m\u001b[0m\u001b[0m\n\u001b[1;32m    769\u001b[0m \u001b[0;34m\u001b[0m\u001b[0m\n",
      "\u001b[0;32m/opt/conda/lib/python3.7/site-packages/tensorflow/python/ops/image_ops_impl.py\u001b[0m in \u001b[0;36m_CheckAtLeast3DImage\u001b[0;34m(image, require_static)\u001b[0m\n\u001b[1;32m    225\u001b[0m   \u001b[0;32mif\u001b[0m \u001b[0many\u001b[0m\u001b[0;34m(\u001b[0m\u001b[0mx\u001b[0m \u001b[0;34m==\u001b[0m \u001b[0;36m0\u001b[0m \u001b[0;32mfor\u001b[0m \u001b[0mx\u001b[0m \u001b[0;32min\u001b[0m \u001b[0mimage_shape\u001b[0m\u001b[0;34m)\u001b[0m\u001b[0;34m:\u001b[0m\u001b[0;34m\u001b[0m\u001b[0;34m\u001b[0m\u001b[0m\n\u001b[1;32m    226\u001b[0m     raise ValueError('all dims of \\'image.shape\\' must be > 0: %s' %\n\u001b[0;32m--> 227\u001b[0;31m                      image_shape)\n\u001b[0m\u001b[1;32m    228\u001b[0m   \u001b[0;32mif\u001b[0m \u001b[0;32mnot\u001b[0m \u001b[0mimage_shape\u001b[0m\u001b[0;34m.\u001b[0m\u001b[0mis_fully_defined\u001b[0m\u001b[0;34m(\u001b[0m\u001b[0;34m)\u001b[0m\u001b[0;34m:\u001b[0m\u001b[0;34m\u001b[0m\u001b[0;34m\u001b[0m\u001b[0m\n\u001b[1;32m    229\u001b[0m     return [\n",
      "\u001b[0;31mValueError\u001b[0m: all dims of 'image.shape' must be > 0: (1, 710, 0, 3)"
     ]
    }
   ],
   "source": [
    "\n",
    "data = []\n",
    "label = []\n",
    "cnt1 = 1\n",
    "cnt2 = 1\n",
    "total = 1\n",
    "for item in tqdm(os.listdir(BASE1)):\n",
    "    patch_img_to_file(BASE1, item, DES1, 0)\n",
    "    # if(cnt1 % 100 == 0):\n",
    "    np_data = np.asarray(data)\n",
    "    np_label = np.asarray(label)\n",
    "    name_data = \"data_natural_\" + str(cnt1)\n",
    "    name_label = \"label_natural_\" + str(cnt1)\n",
    "    np.save(os.path.join(LOG0, name_data), np_data)\n",
    "    np.save(os.path.join(LOG0, name_label), np_label)\n",
    "    data = []\n",
    "    label = []\n",
    "    print(\"saved at number \" + str(cnt1) + \"--natural images--\")\n",
    "    cnt1+=1\n",
    "    total +=1\n",
    "print(\"******************DONE-phase 1******************************\")\n",
    "\n",
    "data = []\n",
    "label = []\n",
    "for item in tqdm(os.listdir(BASE2)):\n",
    "    patch_img_to_file(BASE2, item, DES2, 1)\n",
    "    # if(cnt2 % 75 == 0):\n",
    "    np_data = np.asarray(data)\n",
    "    np_label = np.asarray(label)\n",
    "    name_data = \"data_recapture_\" + str(cnt2)\n",
    "    name_label = \"label_recapture_\" + str(cnt2)\n",
    "    np.save(os.path.join(LOG1, name_data), np_data)\n",
    "    np.save(os.path.join(LOG1, name_label), np_label)\n",
    "    data = []\n",
    "    label = []\n",
    "    print(\"saved at number \" + str(cnt2) + \"--recapture images--\")\n",
    "    cnt2+=1\n",
    "    total +=1\n",
    "print(\"total_image: \" + str(total))\n",
    "# data = np.asarray(data)\n",
    "# label = np.asarray(label)\n",
    "# print(data.shape)\n",
    "# print(label.shape)\n",
    "# np.save(\"data\", data)\n",
    "# np.save(\"label\", label)"
   ]
  },
  {
   "cell_type": "code",
   "execution_count": null,
   "metadata": {},
   "outputs": [],
   "source": [
    "\n",
    "data = []\n",
    "label = []\n",
    "for item in tqdm(os.listdir(BASE2)):\n",
    "    patch_img_to_file(BASE2, item, DES2, 1)\n",
    "    # if(cnt2 % 75 == 0):\n",
    "    np_data = np.asarray(data)\n",
    "    np_label = np.asarray(label)\n",
    "    name_data = \"data_recapture_\" + str(cnt2)\n",
    "    name_label = \"label_recapture_\" + str(cnt2)\n",
    "    np.save(os.path.join(LOG1, name_data), np_data)\n",
    "    np.save(os.path.join(LOG1, name_label), np_label)\n",
    "    data = []\n",
    "    label = []\n",
    "    print(\"saved at number \" + str(cnt2) + \"--recapture images--\")\n",
    "    cnt2+=1\n",
    "    total +=1\n",
    "print(\"total_image: \" + str(total))\n",
    "# data = np.asarray(data)\n",
    "# label = np.asarray(label)\n",
    "# print(data.shape)\n",
    "# print(label.shape)\n",
    "# np.save(\"data\", data)\n",
    "# np.save(\"label\", label)"
   ]
  },
  {
   "cell_type": "code",
   "execution_count": null,
   "metadata": {},
   "outputs": [],
   "source": []
  }
 ],
 "metadata": {
  "kernelspec": {
   "display_name": "Python 3",
   "language": "python",
   "name": "python3"
  },
  "language_info": {
   "codemirror_mode": {
    "name": "ipython",
    "version": 3
   },
   "file_extension": ".py",
   "mimetype": "text/x-python",
   "name": "python",
   "nbconvert_exporter": "python",
   "pygments_lexer": "ipython3",
   "version": "3.7.11"
  }
 },
 "nbformat": 4,
 "nbformat_minor": 2
}
